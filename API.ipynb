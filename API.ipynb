{
  "nbformat": 4,
  "nbformat_minor": 0,
  "metadata": {
    "colab": {
      "provenance": [],
      "authorship_tag": "ABX9TyPEn7O5nO2rIGg5tydtL6Mt",
      "include_colab_link": true
    },
    "kernelspec": {
      "name": "python3",
      "display_name": "Python 3"
    },
    "language_info": {
      "name": "python"
    }
  },
  "cells": [
    {
      "cell_type": "markdown",
      "metadata": {
        "id": "view-in-github",
        "colab_type": "text"
      },
      "source": [
        "<a href=\"https://colab.research.google.com/github/musinaa/exchange_rate_api/blob/main/API.ipynb\" target=\"_parent\"><img src=\"https://colab.research.google.com/assets/colab-badge.svg\" alt=\"Open In Colab\"/></a>"
      ]
    },
    {
      "cell_type": "code",
      "execution_count": null,
      "metadata": {
        "id": "6xe8nMqKzpaY"
      },
      "outputs": [],
      "source": [
        "import pandas as pd\n",
        "import numpy as np\n",
        "import matplotlib.pyplot as plt\n",
        "import seaborn as sns"
      ]
    },
    {
      "cell_type": "code",
      "source": [
        "base_url =\"https://open.er-api.com/v6/latest/USD\""
      ],
      "metadata": {
        "id": "znUjWQx1z03L"
      },
      "execution_count": null,
      "outputs": []
    },
    {
      "cell_type": "code",
      "source": [
        "import requests"
      ],
      "metadata": {
        "id": "d1H9zwjAz_1Y"
      },
      "execution_count": null,
      "outputs": []
    },
    {
      "cell_type": "code",
      "source": [
        "response=requests.get(base_url)"
      ],
      "metadata": {
        "id": "byq4_AtH0DTm"
      },
      "execution_count": null,
      "outputs": []
    },
    {
      "cell_type": "code",
      "source": [
        "response.ok"
      ],
      "metadata": {
        "colab": {
          "base_uri": "https://localhost:8080/"
        },
        "id": "ezA8Z_V90KgO",
        "outputId": "5c1ea75c-0b08-4a3b-c18e-fae685b9dbc2"
      },
      "execution_count": null,
      "outputs": [
        {
          "output_type": "execute_result",
          "data": {
            "text/plain": [
              "True"
            ]
          },
          "metadata": {},
          "execution_count": 36
        }
      ]
    },
    {
      "cell_type": "code",
      "source": [
        "response.status_code"
      ],
      "metadata": {
        "colab": {
          "base_uri": "https://localhost:8080/"
        },
        "id": "yZp6i8cm0Nyu",
        "outputId": "d346be00-0e21-4ac1-9e10-783d8845b6f4"
      },
      "execution_count": null,
      "outputs": [
        {
          "output_type": "execute_result",
          "data": {
            "text/plain": [
              "200"
            ]
          },
          "metadata": {},
          "execution_count": 37
        }
      ]
    },
    {
      "cell_type": "code",
      "source": [
        "response.text"
      ],
      "metadata": {
        "colab": {
          "base_uri": "https://localhost:8080/",
          "height": 140
        },
        "id": "Gwa9XOyd0SxG",
        "outputId": "01e7bb76-d709-406e-a79e-c5938d9758ee"
      },
      "execution_count": null,
      "outputs": [
        {
          "output_type": "execute_result",
          "data": {
            "text/plain": [
              "'{\"result\":\"success\",\"provider\":\"https://www.exchangerate-api.com\",\"documentation\":\"https://www.exchangerate-api.com/docs/free\",\"terms_of_use\":\"https://www.exchangerate-api.com/terms\",\"time_last_update_unix\":1667779351,\"time_last_update_utc\":\"Mon, 07 Nov 2022 00:02:31 +0000\",\"time_next_update_unix\":1667866381,\"time_next_update_utc\":\"Tue, 08 Nov 2022 00:13:01 +0000\",\"time_eol_unix\":0,\"base_code\":\"USD\",\"rates\":{\"USD\":1,\"AED\":3.6725,\"AFN\":87.231727,\"ALL\":119.178752,\"AMD\":396.493688,\"ANG\":1.79,\"AOA\":487.845159,\"ARS\":156.211075,\"AUD\":1.553869,\"AWG\":1.79,\"AZN\":1.685144,\"BAM\":1.9696,\"BBD\":2,\"BDT\":100.692213,\"BGN\":1.969812,\"BHD\":0.376,\"BIF\":2046.336002,\"BMD\":1,\"BND\":1.402453,\"BOB\":6.83155,\"BRL\":5.061465,\"BSD\":1,\"BTN\":81.846847,\"BWP\":13.379763,\"BYN\":2.586794,\"BZD\":2,\"CAD\":1.351848,\"CDF\":2089.658443,\"CHF\":0.996332,\"CLP\":937.525561,\"CNY\":7.221064,\"COP\":5010.388762,\"CRC\":609.973306,\"CUP\":24,\"CVE\":111.041312,\"CZK\":24.562662,\"DJF\":177.721,\"DKK\":7.512904,\"DOP\":53.378209,\"DZD\":139.015523,\"EGP\":24.05954,\"ERN\":15,\"ETB\":53.103444,\"EUR\":1.007059,\"FJD\":2.272234,\"FKP\":0.88333,\"FOK\":7.512904,\"GBP\":0.883339,\"GEL\":2.74071,\"GGP\":0.88333,\"GHS\":14.442295,\"GIP\":0.88333,\"GMD\":62.66266,\"GNF\":8609.00791,\"GTQ\":7.731445,\"GYD\":208.875533,\"HKD\":7.850069,\"HNL\":24.411866,\"HRK\":7.587546,\"HTG\":130.646072,\"HUF\":405.747085,\"IDR\":15568.169142,\"ILS\":3.558646,\"IMP\":0.88333,\"INR\":81.848622,\"IQD\":1457.315932,\"IRR\":42027.913107,\"ISK\":148.130334,\"JEP\":0.88333,\"JMD\":152.077363,\"JOD\":0.709,\"JPY\":146.873815,\"KES\":120.946596,\"KGS\":83.600884,\"KHR\":4135.626293,\"KID\":1.553833,\"KMF\":495.431408,\"KRW\":1407.495976,\"KWD\":0.29963,\"KYD\":0.833333,\"KZT\":461.60985,\"LAK\":17186.082062,\"LBP\":1507.5,\"LKR\":359.423091,\"LRD\":152.146329,\"LSL\":17.936346,\"LYD\":4.990073,\"MAD\":10.944826,\"MDL\":19.132244,\"MGA\":4262.639076,\"MKD\":62.43638,\"MMK\":2637.269909,\"MNT\":3407.732298,\"MOP\":8.085568,\"MRU\":37.918172,\"MUR\":43.509177,\"MVR\":15.352694,\"MWK\":1032.006705,\"MXN\":19.586039,\"MYR\":4.714379,\"MZN\":64.553467,\"NAD\":17.936346,\"NGN\":435.666578,\"NIO\":35.704918,\"NOK\":10.272377,\"NPR\":130.954956,\"NZD\":1.694625,\"OMR\":0.384497,\"PAB\":1,\"PEN\":3.942784,\"PGK\":3.485863,\"PHP\":58.285777,\"PKR\":219.531679,\"PLN\":4.713829,\"PYG\":7177.857945,\"QAR\":3.64,\"RON\":4.902903,\"RSD\":118.680629,\"RUB\":61.718919,\"RWF\":1077.818264,\"SAR\":3.75,\"SBD\":8.036763,\"SCR\":12.88777,\"SDG\":568.315848,\"SEK\":10.933461,\"SGD\":1.40248,\"SHP\":0.88333,\"SLE\":17.620963,\"SLL\":17620.963452,\"SOS\":567.547662,\"SRD\":29.536509,\"SSP\":609.812835,\"STN\":24.67249,\"SYP\":2485.819314,\"SZL\":17.936346,\"THB\":37.456296,\"TJS\":10.197178,\"TMT\":3.498394,\"TND\":3.150661,\"TOP\":2.390319,\"TRY\":18.554048,\"TTD\":6.714251,\"TVD\":1.553833,\"TWD\":31.819273,\"TZS\":2326.849274,\"UAH\":37.048262,\"UGX\":3791.669526,\"UYU\":40.046071,\"UZS\":11068.980695,\"VES\":8.7752,\"VND\":24626.249478,\"VUV\":121.899596,\"WST\":2.76772,\"XAF\":660.575211,\"XCD\":2.7,\"XDR\":0.784215,\"XOF\":660.575211,\"XPF\":120.172147,\"YER\":247.667553,\"ZAR\":17.936972,\"ZMW\":16.220653,\"ZWL\":635.757688}}'"
            ],
            "application/vnd.google.colaboratory.intrinsic+json": {
              "type": "string"
            }
          },
          "metadata": {},
          "execution_count": 38
        }
      ]
    },
    {
      "cell_type": "code",
      "source": [
        "response.content"
      ],
      "metadata": {
        "colab": {
          "base_uri": "https://localhost:8080/"
        },
        "id": "_8GSEbIE07cu",
        "outputId": "91cc188b-25e0-4783-afbf-a68ad69fee9a"
      },
      "execution_count": null,
      "outputs": [
        {
          "output_type": "execute_result",
          "data": {
            "text/plain": [
              "b'{\"result\":\"success\",\"provider\":\"https://www.exchangerate-api.com\",\"documentation\":\"https://www.exchangerate-api.com/docs/free\",\"terms_of_use\":\"https://www.exchangerate-api.com/terms\",\"time_last_update_unix\":1667779351,\"time_last_update_utc\":\"Mon, 07 Nov 2022 00:02:31 +0000\",\"time_next_update_unix\":1667866381,\"time_next_update_utc\":\"Tue, 08 Nov 2022 00:13:01 +0000\",\"time_eol_unix\":0,\"base_code\":\"USD\",\"rates\":{\"USD\":1,\"AED\":3.6725,\"AFN\":87.231727,\"ALL\":119.178752,\"AMD\":396.493688,\"ANG\":1.79,\"AOA\":487.845159,\"ARS\":156.211075,\"AUD\":1.553869,\"AWG\":1.79,\"AZN\":1.685144,\"BAM\":1.9696,\"BBD\":2,\"BDT\":100.692213,\"BGN\":1.969812,\"BHD\":0.376,\"BIF\":2046.336002,\"BMD\":1,\"BND\":1.402453,\"BOB\":6.83155,\"BRL\":5.061465,\"BSD\":1,\"BTN\":81.846847,\"BWP\":13.379763,\"BYN\":2.586794,\"BZD\":2,\"CAD\":1.351848,\"CDF\":2089.658443,\"CHF\":0.996332,\"CLP\":937.525561,\"CNY\":7.221064,\"COP\":5010.388762,\"CRC\":609.973306,\"CUP\":24,\"CVE\":111.041312,\"CZK\":24.562662,\"DJF\":177.721,\"DKK\":7.512904,\"DOP\":53.378209,\"DZD\":139.015523,\"EGP\":24.05954,\"ERN\":15,\"ETB\":53.103444,\"EUR\":1.007059,\"FJD\":2.272234,\"FKP\":0.88333,\"FOK\":7.512904,\"GBP\":0.883339,\"GEL\":2.74071,\"GGP\":0.88333,\"GHS\":14.442295,\"GIP\":0.88333,\"GMD\":62.66266,\"GNF\":8609.00791,\"GTQ\":7.731445,\"GYD\":208.875533,\"HKD\":7.850069,\"HNL\":24.411866,\"HRK\":7.587546,\"HTG\":130.646072,\"HUF\":405.747085,\"IDR\":15568.169142,\"ILS\":3.558646,\"IMP\":0.88333,\"INR\":81.848622,\"IQD\":1457.315932,\"IRR\":42027.913107,\"ISK\":148.130334,\"JEP\":0.88333,\"JMD\":152.077363,\"JOD\":0.709,\"JPY\":146.873815,\"KES\":120.946596,\"KGS\":83.600884,\"KHR\":4135.626293,\"KID\":1.553833,\"KMF\":495.431408,\"KRW\":1407.495976,\"KWD\":0.29963,\"KYD\":0.833333,\"KZT\":461.60985,\"LAK\":17186.082062,\"LBP\":1507.5,\"LKR\":359.423091,\"LRD\":152.146329,\"LSL\":17.936346,\"LYD\":4.990073,\"MAD\":10.944826,\"MDL\":19.132244,\"MGA\":4262.639076,\"MKD\":62.43638,\"MMK\":2637.269909,\"MNT\":3407.732298,\"MOP\":8.085568,\"MRU\":37.918172,\"MUR\":43.509177,\"MVR\":15.352694,\"MWK\":1032.006705,\"MXN\":19.586039,\"MYR\":4.714379,\"MZN\":64.553467,\"NAD\":17.936346,\"NGN\":435.666578,\"NIO\":35.704918,\"NOK\":10.272377,\"NPR\":130.954956,\"NZD\":1.694625,\"OMR\":0.384497,\"PAB\":1,\"PEN\":3.942784,\"PGK\":3.485863,\"PHP\":58.285777,\"PKR\":219.531679,\"PLN\":4.713829,\"PYG\":7177.857945,\"QAR\":3.64,\"RON\":4.902903,\"RSD\":118.680629,\"RUB\":61.718919,\"RWF\":1077.818264,\"SAR\":3.75,\"SBD\":8.036763,\"SCR\":12.88777,\"SDG\":568.315848,\"SEK\":10.933461,\"SGD\":1.40248,\"SHP\":0.88333,\"SLE\":17.620963,\"SLL\":17620.963452,\"SOS\":567.547662,\"SRD\":29.536509,\"SSP\":609.812835,\"STN\":24.67249,\"SYP\":2485.819314,\"SZL\":17.936346,\"THB\":37.456296,\"TJS\":10.197178,\"TMT\":3.498394,\"TND\":3.150661,\"TOP\":2.390319,\"TRY\":18.554048,\"TTD\":6.714251,\"TVD\":1.553833,\"TWD\":31.819273,\"TZS\":2326.849274,\"UAH\":37.048262,\"UGX\":3791.669526,\"UYU\":40.046071,\"UZS\":11068.980695,\"VES\":8.7752,\"VND\":24626.249478,\"VUV\":121.899596,\"WST\":2.76772,\"XAF\":660.575211,\"XCD\":2.7,\"XDR\":0.784215,\"XOF\":660.575211,\"XPF\":120.172147,\"YER\":247.667553,\"ZAR\":17.936972,\"ZMW\":16.220653,\"ZWL\":635.757688}}'"
            ]
          },
          "metadata": {},
          "execution_count": 39
        }
      ]
    },
    {
      "cell_type": "markdown",
      "source": [
        "Handling JSON"
      ],
      "metadata": {
        "id": "tvKgAHvI1a4Z"
      }
    },
    {
      "cell_type": "code",
      "source": [
        "response.json()"
      ],
      "metadata": {
        "colab": {
          "base_uri": "https://localhost:8080/"
        },
        "id": "n2HFk76L0_RW",
        "outputId": "0f855875-e766-4a03-a834-ef73b44cc9f8"
      },
      "execution_count": null,
      "outputs": [
        {
          "output_type": "execute_result",
          "data": {
            "text/plain": [
              "{'result': 'success',\n",
              " 'provider': 'https://www.exchangerate-api.com',\n",
              " 'documentation': 'https://www.exchangerate-api.com/docs/free',\n",
              " 'terms_of_use': 'https://www.exchangerate-api.com/terms',\n",
              " 'time_last_update_unix': 1667779351,\n",
              " 'time_last_update_utc': 'Mon, 07 Nov 2022 00:02:31 +0000',\n",
              " 'time_next_update_unix': 1667866381,\n",
              " 'time_next_update_utc': 'Tue, 08 Nov 2022 00:13:01 +0000',\n",
              " 'time_eol_unix': 0,\n",
              " 'base_code': 'USD',\n",
              " 'rates': {'USD': 1,\n",
              "  'AED': 3.6725,\n",
              "  'AFN': 87.231727,\n",
              "  'ALL': 119.178752,\n",
              "  'AMD': 396.493688,\n",
              "  'ANG': 1.79,\n",
              "  'AOA': 487.845159,\n",
              "  'ARS': 156.211075,\n",
              "  'AUD': 1.553869,\n",
              "  'AWG': 1.79,\n",
              "  'AZN': 1.685144,\n",
              "  'BAM': 1.9696,\n",
              "  'BBD': 2,\n",
              "  'BDT': 100.692213,\n",
              "  'BGN': 1.969812,\n",
              "  'BHD': 0.376,\n",
              "  'BIF': 2046.336002,\n",
              "  'BMD': 1,\n",
              "  'BND': 1.402453,\n",
              "  'BOB': 6.83155,\n",
              "  'BRL': 5.061465,\n",
              "  'BSD': 1,\n",
              "  'BTN': 81.846847,\n",
              "  'BWP': 13.379763,\n",
              "  'BYN': 2.586794,\n",
              "  'BZD': 2,\n",
              "  'CAD': 1.351848,\n",
              "  'CDF': 2089.658443,\n",
              "  'CHF': 0.996332,\n",
              "  'CLP': 937.525561,\n",
              "  'CNY': 7.221064,\n",
              "  'COP': 5010.388762,\n",
              "  'CRC': 609.973306,\n",
              "  'CUP': 24,\n",
              "  'CVE': 111.041312,\n",
              "  'CZK': 24.562662,\n",
              "  'DJF': 177.721,\n",
              "  'DKK': 7.512904,\n",
              "  'DOP': 53.378209,\n",
              "  'DZD': 139.015523,\n",
              "  'EGP': 24.05954,\n",
              "  'ERN': 15,\n",
              "  'ETB': 53.103444,\n",
              "  'EUR': 1.007059,\n",
              "  'FJD': 2.272234,\n",
              "  'FKP': 0.88333,\n",
              "  'FOK': 7.512904,\n",
              "  'GBP': 0.883339,\n",
              "  'GEL': 2.74071,\n",
              "  'GGP': 0.88333,\n",
              "  'GHS': 14.442295,\n",
              "  'GIP': 0.88333,\n",
              "  'GMD': 62.66266,\n",
              "  'GNF': 8609.00791,\n",
              "  'GTQ': 7.731445,\n",
              "  'GYD': 208.875533,\n",
              "  'HKD': 7.850069,\n",
              "  'HNL': 24.411866,\n",
              "  'HRK': 7.587546,\n",
              "  'HTG': 130.646072,\n",
              "  'HUF': 405.747085,\n",
              "  'IDR': 15568.169142,\n",
              "  'ILS': 3.558646,\n",
              "  'IMP': 0.88333,\n",
              "  'INR': 81.848622,\n",
              "  'IQD': 1457.315932,\n",
              "  'IRR': 42027.913107,\n",
              "  'ISK': 148.130334,\n",
              "  'JEP': 0.88333,\n",
              "  'JMD': 152.077363,\n",
              "  'JOD': 0.709,\n",
              "  'JPY': 146.873815,\n",
              "  'KES': 120.946596,\n",
              "  'KGS': 83.600884,\n",
              "  'KHR': 4135.626293,\n",
              "  'KID': 1.553833,\n",
              "  'KMF': 495.431408,\n",
              "  'KRW': 1407.495976,\n",
              "  'KWD': 0.29963,\n",
              "  'KYD': 0.833333,\n",
              "  'KZT': 461.60985,\n",
              "  'LAK': 17186.082062,\n",
              "  'LBP': 1507.5,\n",
              "  'LKR': 359.423091,\n",
              "  'LRD': 152.146329,\n",
              "  'LSL': 17.936346,\n",
              "  'LYD': 4.990073,\n",
              "  'MAD': 10.944826,\n",
              "  'MDL': 19.132244,\n",
              "  'MGA': 4262.639076,\n",
              "  'MKD': 62.43638,\n",
              "  'MMK': 2637.269909,\n",
              "  'MNT': 3407.732298,\n",
              "  'MOP': 8.085568,\n",
              "  'MRU': 37.918172,\n",
              "  'MUR': 43.509177,\n",
              "  'MVR': 15.352694,\n",
              "  'MWK': 1032.006705,\n",
              "  'MXN': 19.586039,\n",
              "  'MYR': 4.714379,\n",
              "  'MZN': 64.553467,\n",
              "  'NAD': 17.936346,\n",
              "  'NGN': 435.666578,\n",
              "  'NIO': 35.704918,\n",
              "  'NOK': 10.272377,\n",
              "  'NPR': 130.954956,\n",
              "  'NZD': 1.694625,\n",
              "  'OMR': 0.384497,\n",
              "  'PAB': 1,\n",
              "  'PEN': 3.942784,\n",
              "  'PGK': 3.485863,\n",
              "  'PHP': 58.285777,\n",
              "  'PKR': 219.531679,\n",
              "  'PLN': 4.713829,\n",
              "  'PYG': 7177.857945,\n",
              "  'QAR': 3.64,\n",
              "  'RON': 4.902903,\n",
              "  'RSD': 118.680629,\n",
              "  'RUB': 61.718919,\n",
              "  'RWF': 1077.818264,\n",
              "  'SAR': 3.75,\n",
              "  'SBD': 8.036763,\n",
              "  'SCR': 12.88777,\n",
              "  'SDG': 568.315848,\n",
              "  'SEK': 10.933461,\n",
              "  'SGD': 1.40248,\n",
              "  'SHP': 0.88333,\n",
              "  'SLE': 17.620963,\n",
              "  'SLL': 17620.963452,\n",
              "  'SOS': 567.547662,\n",
              "  'SRD': 29.536509,\n",
              "  'SSP': 609.812835,\n",
              "  'STN': 24.67249,\n",
              "  'SYP': 2485.819314,\n",
              "  'SZL': 17.936346,\n",
              "  'THB': 37.456296,\n",
              "  'TJS': 10.197178,\n",
              "  'TMT': 3.498394,\n",
              "  'TND': 3.150661,\n",
              "  'TOP': 2.390319,\n",
              "  'TRY': 18.554048,\n",
              "  'TTD': 6.714251,\n",
              "  'TVD': 1.553833,\n",
              "  'TWD': 31.819273,\n",
              "  'TZS': 2326.849274,\n",
              "  'UAH': 37.048262,\n",
              "  'UGX': 3791.669526,\n",
              "  'UYU': 40.046071,\n",
              "  'UZS': 11068.980695,\n",
              "  'VES': 8.7752,\n",
              "  'VND': 24626.249478,\n",
              "  'VUV': 121.899596,\n",
              "  'WST': 2.76772,\n",
              "  'XAF': 660.575211,\n",
              "  'XCD': 2.7,\n",
              "  'XDR': 0.784215,\n",
              "  'XOF': 660.575211,\n",
              "  'XPF': 120.172147,\n",
              "  'YER': 247.667553,\n",
              "  'ZAR': 17.936972,\n",
              "  'ZMW': 16.220653,\n",
              "  'ZWL': 635.757688}}"
            ]
          },
          "metadata": {},
          "execution_count": 40
        }
      ]
    },
    {
      "cell_type": "code",
      "source": [
        "type(response.json())"
      ],
      "metadata": {
        "colab": {
          "base_uri": "https://localhost:8080/"
        },
        "id": "xWa0xlmw1DyW",
        "outputId": "5d7b6336-0ebd-4d2d-931f-35a91f22031a"
      },
      "execution_count": null,
      "outputs": [
        {
          "output_type": "execute_result",
          "data": {
            "text/plain": [
              "dict"
            ]
          },
          "metadata": {},
          "execution_count": 41
        }
      ]
    },
    {
      "cell_type": "code",
      "source": [
        "import json"
      ],
      "metadata": {
        "id": "H0nTM13F1Ode"
      },
      "execution_count": null,
      "outputs": []
    },
    {
      "cell_type": "code",
      "source": [
        "json.dumps(response.json(), indent=4)"
      ],
      "metadata": {
        "colab": {
          "base_uri": "https://localhost:8080/",
          "height": 140
        },
        "id": "_lt4pPMs1pde",
        "outputId": "eea5a6b8-da7a-4d6d-e9e6-c8e7a582873c"
      },
      "execution_count": null,
      "outputs": [
        {
          "output_type": "execute_result",
          "data": {
            "text/plain": [
              "'{\\n    \"result\": \"success\",\\n    \"provider\": \"https://www.exchangerate-api.com\",\\n    \"documentation\": \"https://www.exchangerate-api.com/docs/free\",\\n    \"terms_of_use\": \"https://www.exchangerate-api.com/terms\",\\n    \"time_last_update_unix\": 1667779351,\\n    \"time_last_update_utc\": \"Mon, 07 Nov 2022 00:02:31 +0000\",\\n    \"time_next_update_unix\": 1667866381,\\n    \"time_next_update_utc\": \"Tue, 08 Nov 2022 00:13:01 +0000\",\\n    \"time_eol_unix\": 0,\\n    \"base_code\": \"USD\",\\n    \"rates\": {\\n        \"USD\": 1,\\n        \"AED\": 3.6725,\\n        \"AFN\": 87.231727,\\n        \"ALL\": 119.178752,\\n        \"AMD\": 396.493688,\\n        \"ANG\": 1.79,\\n        \"AOA\": 487.845159,\\n        \"ARS\": 156.211075,\\n        \"AUD\": 1.553869,\\n        \"AWG\": 1.79,\\n        \"AZN\": 1.685144,\\n        \"BAM\": 1.9696,\\n        \"BBD\": 2,\\n        \"BDT\": 100.692213,\\n        \"BGN\": 1.969812,\\n        \"BHD\": 0.376,\\n        \"BIF\": 2046.336002,\\n        \"BMD\": 1,\\n        \"BND\": 1.402453,\\n        \"BOB\": 6.83155,\\n        \"BRL\": 5.061465,\\n        \"BSD\": 1,\\n        \"BTN\": 81.846847,\\n        \"BWP\": 13.379763,\\n        \"BYN\": 2.586794,\\n        \"BZD\": 2,\\n        \"CAD\": 1.351848,\\n        \"CDF\": 2089.658443,\\n        \"CHF\": 0.996332,\\n        \"CLP\": 937.525561,\\n        \"CNY\": 7.221064,\\n        \"COP\": 5010.388762,\\n        \"CRC\": 609.973306,\\n        \"CUP\": 24,\\n        \"CVE\": 111.041312,\\n        \"CZK\": 24.562662,\\n        \"DJF\": 177.721,\\n        \"DKK\": 7.512904,\\n        \"DOP\": 53.378209,\\n        \"DZD\": 139.015523,\\n        \"EGP\": 24.05954,\\n        \"ERN\": 15,\\n        \"ETB\": 53.103444,\\n        \"EUR\": 1.007059,\\n        \"FJD\": 2.272234,\\n        \"FKP\": 0.88333,\\n        \"FOK\": 7.512904,\\n        \"GBP\": 0.883339,\\n        \"GEL\": 2.74071,\\n        \"GGP\": 0.88333,\\n        \"GHS\": 14.442295,\\n        \"GIP\": 0.88333,\\n        \"GMD\": 62.66266,\\n        \"GNF\": 8609.00791,\\n        \"GTQ\": 7.731445,\\n        \"GYD\": 208.875533,\\n        \"HKD\": 7.850069,\\n        \"HNL\": 24.411866,\\n        \"HRK\": 7.587546,\\n        \"HTG\": 130.646072,\\n        \"HUF\": 405.747085,\\n        \"IDR\": 15568.169142,\\n        \"ILS\": 3.558646,\\n        \"IMP\": 0.88333,\\n        \"INR\": 81.848622,\\n        \"IQD\": 1457.315932,\\n        \"IRR\": 42027.913107,\\n        \"ISK\": 148.130334,\\n        \"JEP\": 0.88333,\\n        \"JMD\": 152.077363,\\n        \"JOD\": 0.709,\\n        \"JPY\": 146.873815,\\n        \"KES\": 120.946596,\\n        \"KGS\": 83.600884,\\n        \"KHR\": 4135.626293,\\n        \"KID\": 1.553833,\\n        \"KMF\": 495.431408,\\n        \"KRW\": 1407.495976,\\n        \"KWD\": 0.29963,\\n        \"KYD\": 0.833333,\\n        \"KZT\": 461.60985,\\n        \"LAK\": 17186.082062,\\n        \"LBP\": 1507.5,\\n        \"LKR\": 359.423091,\\n        \"LRD\": 152.146329,\\n        \"LSL\": 17.936346,\\n        \"LYD\": 4.990073,\\n        \"MAD\": 10.944826,\\n        \"MDL\": 19.132244,\\n        \"MGA\": 4262.639076,\\n        \"MKD\": 62.43638,\\n        \"MMK\": 2637.269909,\\n        \"MNT\": 3407.732298,\\n        \"MOP\": 8.085568,\\n        \"MRU\": 37.918172,\\n        \"MUR\": 43.509177,\\n        \"MVR\": 15.352694,\\n        \"MWK\": 1032.006705,\\n        \"MXN\": 19.586039,\\n        \"MYR\": 4.714379,\\n        \"MZN\": 64.553467,\\n        \"NAD\": 17.936346,\\n        \"NGN\": 435.666578,\\n        \"NIO\": 35.704918,\\n        \"NOK\": 10.272377,\\n        \"NPR\": 130.954956,\\n        \"NZD\": 1.694625,\\n        \"OMR\": 0.384497,\\n        \"PAB\": 1,\\n        \"PEN\": 3.942784,\\n        \"PGK\": 3.485863,\\n        \"PHP\": 58.285777,\\n        \"PKR\": 219.531679,\\n        \"PLN\": 4.713829,\\n        \"PYG\": 7177.857945,\\n        \"QAR\": 3.64,\\n        \"RON\": 4.902903,\\n        \"RSD\": 118.680629,\\n        \"RUB\": 61.718919,\\n        \"RWF\": 1077.818264,\\n        \"SAR\": 3.75,\\n        \"SBD\": 8.036763,\\n        \"SCR\": 12.88777,\\n        \"SDG\": 568.315848,\\n        \"SEK\": 10.933461,\\n        \"SGD\": 1.40248,\\n        \"SHP\": 0.88333,\\n        \"SLE\": 17.620963,\\n        \"SLL\": 17620.963452,\\n        \"SOS\": 567.547662,\\n        \"SRD\": 29.536509,\\n        \"SSP\": 609.812835,\\n        \"STN\": 24.67249,\\n        \"SYP\": 2485.819314,\\n        \"SZL\": 17.936346,\\n        \"THB\": 37.456296,\\n        \"TJS\": 10.197178,\\n        \"TMT\": 3.498394,\\n        \"TND\": 3.150661,\\n        \"TOP\": 2.390319,\\n        \"TRY\": 18.554048,\\n        \"TTD\": 6.714251,\\n        \"TVD\": 1.553833,\\n        \"TWD\": 31.819273,\\n        \"TZS\": 2326.849274,\\n        \"UAH\": 37.048262,\\n        \"UGX\": 3791.669526,\\n        \"UYU\": 40.046071,\\n        \"UZS\": 11068.980695,\\n        \"VES\": 8.7752,\\n        \"VND\": 24626.249478,\\n        \"VUV\": 121.899596,\\n        \"WST\": 2.76772,\\n        \"XAF\": 660.575211,\\n        \"XCD\": 2.7,\\n        \"XDR\": 0.784215,\\n        \"XOF\": 660.575211,\\n        \"XPF\": 120.172147,\\n        \"YER\": 247.667553,\\n        \"ZAR\": 17.936972,\\n        \"ZMW\": 16.220653,\\n        \"ZWL\": 635.757688\\n    }\\n}'"
            ],
            "application/vnd.google.colaboratory.intrinsic+json": {
              "type": "string"
            }
          },
          "metadata": {},
          "execution_count": 43
        }
      ]
    },
    {
      "cell_type": "code",
      "source": [
        "print(json.dumps(response.json(), indent=4))"
      ],
      "metadata": {
        "colab": {
          "base_uri": "https://localhost:8080/"
        },
        "id": "Y_h5kvDD12wu",
        "outputId": "3dfa4e3b-7d7a-4ef3-c12b-07a5d9880684"
      },
      "execution_count": null,
      "outputs": [
        {
          "output_type": "stream",
          "name": "stdout",
          "text": [
            "{\n",
            "    \"result\": \"success\",\n",
            "    \"provider\": \"https://www.exchangerate-api.com\",\n",
            "    \"documentation\": \"https://www.exchangerate-api.com/docs/free\",\n",
            "    \"terms_of_use\": \"https://www.exchangerate-api.com/terms\",\n",
            "    \"time_last_update_unix\": 1667779351,\n",
            "    \"time_last_update_utc\": \"Mon, 07 Nov 2022 00:02:31 +0000\",\n",
            "    \"time_next_update_unix\": 1667866381,\n",
            "    \"time_next_update_utc\": \"Tue, 08 Nov 2022 00:13:01 +0000\",\n",
            "    \"time_eol_unix\": 0,\n",
            "    \"base_code\": \"USD\",\n",
            "    \"rates\": {\n",
            "        \"USD\": 1,\n",
            "        \"AED\": 3.6725,\n",
            "        \"AFN\": 87.231727,\n",
            "        \"ALL\": 119.178752,\n",
            "        \"AMD\": 396.493688,\n",
            "        \"ANG\": 1.79,\n",
            "        \"AOA\": 487.845159,\n",
            "        \"ARS\": 156.211075,\n",
            "        \"AUD\": 1.553869,\n",
            "        \"AWG\": 1.79,\n",
            "        \"AZN\": 1.685144,\n",
            "        \"BAM\": 1.9696,\n",
            "        \"BBD\": 2,\n",
            "        \"BDT\": 100.692213,\n",
            "        \"BGN\": 1.969812,\n",
            "        \"BHD\": 0.376,\n",
            "        \"BIF\": 2046.336002,\n",
            "        \"BMD\": 1,\n",
            "        \"BND\": 1.402453,\n",
            "        \"BOB\": 6.83155,\n",
            "        \"BRL\": 5.061465,\n",
            "        \"BSD\": 1,\n",
            "        \"BTN\": 81.846847,\n",
            "        \"BWP\": 13.379763,\n",
            "        \"BYN\": 2.586794,\n",
            "        \"BZD\": 2,\n",
            "        \"CAD\": 1.351848,\n",
            "        \"CDF\": 2089.658443,\n",
            "        \"CHF\": 0.996332,\n",
            "        \"CLP\": 937.525561,\n",
            "        \"CNY\": 7.221064,\n",
            "        \"COP\": 5010.388762,\n",
            "        \"CRC\": 609.973306,\n",
            "        \"CUP\": 24,\n",
            "        \"CVE\": 111.041312,\n",
            "        \"CZK\": 24.562662,\n",
            "        \"DJF\": 177.721,\n",
            "        \"DKK\": 7.512904,\n",
            "        \"DOP\": 53.378209,\n",
            "        \"DZD\": 139.015523,\n",
            "        \"EGP\": 24.05954,\n",
            "        \"ERN\": 15,\n",
            "        \"ETB\": 53.103444,\n",
            "        \"EUR\": 1.007059,\n",
            "        \"FJD\": 2.272234,\n",
            "        \"FKP\": 0.88333,\n",
            "        \"FOK\": 7.512904,\n",
            "        \"GBP\": 0.883339,\n",
            "        \"GEL\": 2.74071,\n",
            "        \"GGP\": 0.88333,\n",
            "        \"GHS\": 14.442295,\n",
            "        \"GIP\": 0.88333,\n",
            "        \"GMD\": 62.66266,\n",
            "        \"GNF\": 8609.00791,\n",
            "        \"GTQ\": 7.731445,\n",
            "        \"GYD\": 208.875533,\n",
            "        \"HKD\": 7.850069,\n",
            "        \"HNL\": 24.411866,\n",
            "        \"HRK\": 7.587546,\n",
            "        \"HTG\": 130.646072,\n",
            "        \"HUF\": 405.747085,\n",
            "        \"IDR\": 15568.169142,\n",
            "        \"ILS\": 3.558646,\n",
            "        \"IMP\": 0.88333,\n",
            "        \"INR\": 81.848622,\n",
            "        \"IQD\": 1457.315932,\n",
            "        \"IRR\": 42027.913107,\n",
            "        \"ISK\": 148.130334,\n",
            "        \"JEP\": 0.88333,\n",
            "        \"JMD\": 152.077363,\n",
            "        \"JOD\": 0.709,\n",
            "        \"JPY\": 146.873815,\n",
            "        \"KES\": 120.946596,\n",
            "        \"KGS\": 83.600884,\n",
            "        \"KHR\": 4135.626293,\n",
            "        \"KID\": 1.553833,\n",
            "        \"KMF\": 495.431408,\n",
            "        \"KRW\": 1407.495976,\n",
            "        \"KWD\": 0.29963,\n",
            "        \"KYD\": 0.833333,\n",
            "        \"KZT\": 461.60985,\n",
            "        \"LAK\": 17186.082062,\n",
            "        \"LBP\": 1507.5,\n",
            "        \"LKR\": 359.423091,\n",
            "        \"LRD\": 152.146329,\n",
            "        \"LSL\": 17.936346,\n",
            "        \"LYD\": 4.990073,\n",
            "        \"MAD\": 10.944826,\n",
            "        \"MDL\": 19.132244,\n",
            "        \"MGA\": 4262.639076,\n",
            "        \"MKD\": 62.43638,\n",
            "        \"MMK\": 2637.269909,\n",
            "        \"MNT\": 3407.732298,\n",
            "        \"MOP\": 8.085568,\n",
            "        \"MRU\": 37.918172,\n",
            "        \"MUR\": 43.509177,\n",
            "        \"MVR\": 15.352694,\n",
            "        \"MWK\": 1032.006705,\n",
            "        \"MXN\": 19.586039,\n",
            "        \"MYR\": 4.714379,\n",
            "        \"MZN\": 64.553467,\n",
            "        \"NAD\": 17.936346,\n",
            "        \"NGN\": 435.666578,\n",
            "        \"NIO\": 35.704918,\n",
            "        \"NOK\": 10.272377,\n",
            "        \"NPR\": 130.954956,\n",
            "        \"NZD\": 1.694625,\n",
            "        \"OMR\": 0.384497,\n",
            "        \"PAB\": 1,\n",
            "        \"PEN\": 3.942784,\n",
            "        \"PGK\": 3.485863,\n",
            "        \"PHP\": 58.285777,\n",
            "        \"PKR\": 219.531679,\n",
            "        \"PLN\": 4.713829,\n",
            "        \"PYG\": 7177.857945,\n",
            "        \"QAR\": 3.64,\n",
            "        \"RON\": 4.902903,\n",
            "        \"RSD\": 118.680629,\n",
            "        \"RUB\": 61.718919,\n",
            "        \"RWF\": 1077.818264,\n",
            "        \"SAR\": 3.75,\n",
            "        \"SBD\": 8.036763,\n",
            "        \"SCR\": 12.88777,\n",
            "        \"SDG\": 568.315848,\n",
            "        \"SEK\": 10.933461,\n",
            "        \"SGD\": 1.40248,\n",
            "        \"SHP\": 0.88333,\n",
            "        \"SLE\": 17.620963,\n",
            "        \"SLL\": 17620.963452,\n",
            "        \"SOS\": 567.547662,\n",
            "        \"SRD\": 29.536509,\n",
            "        \"SSP\": 609.812835,\n",
            "        \"STN\": 24.67249,\n",
            "        \"SYP\": 2485.819314,\n",
            "        \"SZL\": 17.936346,\n",
            "        \"THB\": 37.456296,\n",
            "        \"TJS\": 10.197178,\n",
            "        \"TMT\": 3.498394,\n",
            "        \"TND\": 3.150661,\n",
            "        \"TOP\": 2.390319,\n",
            "        \"TRY\": 18.554048,\n",
            "        \"TTD\": 6.714251,\n",
            "        \"TVD\": 1.553833,\n",
            "        \"TWD\": 31.819273,\n",
            "        \"TZS\": 2326.849274,\n",
            "        \"UAH\": 37.048262,\n",
            "        \"UGX\": 3791.669526,\n",
            "        \"UYU\": 40.046071,\n",
            "        \"UZS\": 11068.980695,\n",
            "        \"VES\": 8.7752,\n",
            "        \"VND\": 24626.249478,\n",
            "        \"VUV\": 121.899596,\n",
            "        \"WST\": 2.76772,\n",
            "        \"XAF\": 660.575211,\n",
            "        \"XCD\": 2.7,\n",
            "        \"XDR\": 0.784215,\n",
            "        \"XOF\": 660.575211,\n",
            "        \"XPF\": 120.172147,\n",
            "        \"YER\": 247.667553,\n",
            "        \"ZAR\": 17.936972,\n",
            "        \"ZMW\": 16.220653,\n",
            "        \"ZWL\": 635.757688\n",
            "    }\n",
            "}\n"
          ]
        }
      ]
    },
    {
      "cell_type": "code",
      "source": [
        "response.json().keys()"
      ],
      "metadata": {
        "colab": {
          "base_uri": "https://localhost:8080/"
        },
        "id": "BTMRYGqb2EHG",
        "outputId": "784d927f-7b8f-4940-dd78-b94e35f67c86"
      },
      "execution_count": null,
      "outputs": [
        {
          "output_type": "execute_result",
          "data": {
            "text/plain": [
              "dict_keys(['result', 'provider', 'documentation', 'terms_of_use', 'time_last_update_unix', 'time_last_update_utc', 'time_next_update_unix', 'time_next_update_utc', 'time_eol_unix', 'base_code', 'rates'])"
            ]
          },
          "metadata": {},
          "execution_count": 45
        }
      ]
    },
    {
      "cell_type": "markdown",
      "source": [
        "Incorporating parameter in the GET Request"
      ],
      "metadata": {
        "id": "NoKY0gKm47Dk"
      }
    },
    {
      "cell_type": "code",
      "source": [
        "param_url= base_url + \"?symbols=USD,BAM\"\n",
        "param_url"
      ],
      "metadata": {
        "colab": {
          "base_uri": "https://localhost:8080/",
          "height": 35
        },
        "id": "vuhxG47B2W4m",
        "outputId": "2c8cb2c4-5395-45f9-fd9a-1e98c913313a"
      },
      "execution_count": null,
      "outputs": [
        {
          "output_type": "execute_result",
          "data": {
            "text/plain": [
              "'https://open.er-api.com/v6/latest/USD?symbols=USD,BAM'"
            ],
            "application/vnd.google.colaboratory.intrinsic+json": {
              "type": "string"
            }
          },
          "metadata": {},
          "execution_count": 61
        }
      ]
    },
    {
      "cell_type": "code",
      "source": [
        "response=requests.get(param_url)\n",
        "response"
      ],
      "metadata": {
        "colab": {
          "base_uri": "https://localhost:8080/"
        },
        "id": "yEhqy9k_5xdu",
        "outputId": "e4eaf72a-6bde-445b-d420-5b65ec0e9f2f"
      },
      "execution_count": null,
      "outputs": [
        {
          "output_type": "execute_result",
          "data": {
            "text/plain": [
              "<Response [200]>"
            ]
          },
          "metadata": {},
          "execution_count": 62
        }
      ]
    },
    {
      "cell_type": "code",
      "source": [
        "data=response.json()\n",
        "data"
      ],
      "metadata": {
        "colab": {
          "base_uri": "https://localhost:8080/"
        },
        "id": "rYHVGg6z6CRl",
        "outputId": "b1db21eb-8829-45d2-d1cb-4525603eb4c3"
      },
      "execution_count": null,
      "outputs": [
        {
          "output_type": "execute_result",
          "data": {
            "text/plain": [
              "{'result': 'success',\n",
              " 'provider': 'https://www.exchangerate-api.com',\n",
              " 'documentation': 'https://www.exchangerate-api.com/docs/free',\n",
              " 'terms_of_use': 'https://www.exchangerate-api.com/terms',\n",
              " 'time_last_update_unix': 1667779351,\n",
              " 'time_last_update_utc': 'Mon, 07 Nov 2022 00:02:31 +0000',\n",
              " 'time_next_update_unix': 1667866461,\n",
              " 'time_next_update_utc': 'Tue, 08 Nov 2022 00:14:21 +0000',\n",
              " 'time_eol_unix': 0,\n",
              " 'base_code': 'USD',\n",
              " 'rates': {'USD': 1,\n",
              "  'AED': 3.6725,\n",
              "  'AFN': 87.231727,\n",
              "  'ALL': 119.178752,\n",
              "  'AMD': 396.493688,\n",
              "  'ANG': 1.79,\n",
              "  'AOA': 487.845159,\n",
              "  'ARS': 156.211075,\n",
              "  'AUD': 1.553869,\n",
              "  'AWG': 1.79,\n",
              "  'AZN': 1.685144,\n",
              "  'BAM': 1.9696,\n",
              "  'BBD': 2,\n",
              "  'BDT': 100.692213,\n",
              "  'BGN': 1.969812,\n",
              "  'BHD': 0.376,\n",
              "  'BIF': 2046.336002,\n",
              "  'BMD': 1,\n",
              "  'BND': 1.402453,\n",
              "  'BOB': 6.83155,\n",
              "  'BRL': 5.061465,\n",
              "  'BSD': 1,\n",
              "  'BTN': 81.846847,\n",
              "  'BWP': 13.379763,\n",
              "  'BYN': 2.586794,\n",
              "  'BZD': 2,\n",
              "  'CAD': 1.351848,\n",
              "  'CDF': 2089.658443,\n",
              "  'CHF': 0.996332,\n",
              "  'CLP': 937.525561,\n",
              "  'CNY': 7.221064,\n",
              "  'COP': 5010.388762,\n",
              "  'CRC': 609.973306,\n",
              "  'CUP': 24,\n",
              "  'CVE': 111.041312,\n",
              "  'CZK': 24.562662,\n",
              "  'DJF': 177.721,\n",
              "  'DKK': 7.512904,\n",
              "  'DOP': 53.378209,\n",
              "  'DZD': 139.015523,\n",
              "  'EGP': 24.05954,\n",
              "  'ERN': 15,\n",
              "  'ETB': 53.103444,\n",
              "  'EUR': 1.007059,\n",
              "  'FJD': 2.272234,\n",
              "  'FKP': 0.88333,\n",
              "  'FOK': 7.512904,\n",
              "  'GBP': 0.883339,\n",
              "  'GEL': 2.74071,\n",
              "  'GGP': 0.88333,\n",
              "  'GHS': 14.442295,\n",
              "  'GIP': 0.88333,\n",
              "  'GMD': 62.66266,\n",
              "  'GNF': 8609.00791,\n",
              "  'GTQ': 7.731445,\n",
              "  'GYD': 208.875533,\n",
              "  'HKD': 7.850069,\n",
              "  'HNL': 24.411866,\n",
              "  'HRK': 7.587546,\n",
              "  'HTG': 130.646072,\n",
              "  'HUF': 405.747085,\n",
              "  'IDR': 15568.169142,\n",
              "  'ILS': 3.558646,\n",
              "  'IMP': 0.88333,\n",
              "  'INR': 81.848622,\n",
              "  'IQD': 1457.315932,\n",
              "  'IRR': 42027.913107,\n",
              "  'ISK': 148.130334,\n",
              "  'JEP': 0.88333,\n",
              "  'JMD': 152.077363,\n",
              "  'JOD': 0.709,\n",
              "  'JPY': 146.873815,\n",
              "  'KES': 120.946596,\n",
              "  'KGS': 83.600884,\n",
              "  'KHR': 4135.626293,\n",
              "  'KID': 1.553833,\n",
              "  'KMF': 495.431408,\n",
              "  'KRW': 1407.495976,\n",
              "  'KWD': 0.29963,\n",
              "  'KYD': 0.833333,\n",
              "  'KZT': 461.60985,\n",
              "  'LAK': 17186.082062,\n",
              "  'LBP': 1507.5,\n",
              "  'LKR': 359.423091,\n",
              "  'LRD': 152.146329,\n",
              "  'LSL': 17.936346,\n",
              "  'LYD': 4.990073,\n",
              "  'MAD': 10.944826,\n",
              "  'MDL': 19.132244,\n",
              "  'MGA': 4262.639076,\n",
              "  'MKD': 62.43638,\n",
              "  'MMK': 2637.269909,\n",
              "  'MNT': 3407.732298,\n",
              "  'MOP': 8.085568,\n",
              "  'MRU': 37.918172,\n",
              "  'MUR': 43.509177,\n",
              "  'MVR': 15.352694,\n",
              "  'MWK': 1032.006705,\n",
              "  'MXN': 19.586039,\n",
              "  'MYR': 4.714379,\n",
              "  'MZN': 64.553467,\n",
              "  'NAD': 17.936346,\n",
              "  'NGN': 435.666578,\n",
              "  'NIO': 35.704918,\n",
              "  'NOK': 10.272377,\n",
              "  'NPR': 130.954956,\n",
              "  'NZD': 1.694625,\n",
              "  'OMR': 0.384497,\n",
              "  'PAB': 1,\n",
              "  'PEN': 3.942784,\n",
              "  'PGK': 3.485863,\n",
              "  'PHP': 58.285777,\n",
              "  'PKR': 219.531679,\n",
              "  'PLN': 4.713829,\n",
              "  'PYG': 7177.857945,\n",
              "  'QAR': 3.64,\n",
              "  'RON': 4.902903,\n",
              "  'RSD': 118.680629,\n",
              "  'RUB': 61.718919,\n",
              "  'RWF': 1077.818264,\n",
              "  'SAR': 3.75,\n",
              "  'SBD': 8.036763,\n",
              "  'SCR': 12.88777,\n",
              "  'SDG': 568.315848,\n",
              "  'SEK': 10.933461,\n",
              "  'SGD': 1.40248,\n",
              "  'SHP': 0.88333,\n",
              "  'SLE': 17.620963,\n",
              "  'SLL': 17620.963452,\n",
              "  'SOS': 567.547662,\n",
              "  'SRD': 29.536509,\n",
              "  'SSP': 609.812835,\n",
              "  'STN': 24.67249,\n",
              "  'SYP': 2485.819314,\n",
              "  'SZL': 17.936346,\n",
              "  'THB': 37.456296,\n",
              "  'TJS': 10.197178,\n",
              "  'TMT': 3.498394,\n",
              "  'TND': 3.150661,\n",
              "  'TOP': 2.390319,\n",
              "  'TRY': 18.554048,\n",
              "  'TTD': 6.714251,\n",
              "  'TVD': 1.553833,\n",
              "  'TWD': 31.819273,\n",
              "  'TZS': 2326.849274,\n",
              "  'UAH': 37.048262,\n",
              "  'UGX': 3791.669526,\n",
              "  'UYU': 40.046071,\n",
              "  'UZS': 11068.980695,\n",
              "  'VES': 8.7752,\n",
              "  'VND': 24626.249478,\n",
              "  'VUV': 121.899596,\n",
              "  'WST': 2.76772,\n",
              "  'XAF': 660.575211,\n",
              "  'XCD': 2.7,\n",
              "  'XDR': 0.784215,\n",
              "  'XOF': 660.575211,\n",
              "  'XPF': 120.172147,\n",
              "  'YER': 247.667553,\n",
              "  'ZAR': 17.936972,\n",
              "  'ZMW': 16.220653,\n",
              "  'ZWL': 635.757688}}"
            ]
          },
          "metadata": {},
          "execution_count": 63
        }
      ]
    },
    {
      "cell_type": "code",
      "source": [
        "data[\"base_code\"]"
      ],
      "metadata": {
        "colab": {
          "base_uri": "https://localhost:8080/",
          "height": 35
        },
        "id": "TDGCoX6W6X7N",
        "outputId": "9aef443a-91cf-4888-e76c-22f2f95f2add"
      },
      "execution_count": null,
      "outputs": [
        {
          "output_type": "execute_result",
          "data": {
            "text/plain": [
              "'USD'"
            ],
            "application/vnd.google.colaboratory.intrinsic+json": {
              "type": "string"
            }
          },
          "metadata": {},
          "execution_count": 64
        }
      ]
    },
    {
      "cell_type": "code",
      "source": [
        "data[\"time_last_update_utc\"]"
      ],
      "metadata": {
        "colab": {
          "base_uri": "https://localhost:8080/",
          "height": 35
        },
        "id": "BDNe5a_39-8h",
        "outputId": "a7554d14-b551-4a77-a662-7ed86b0ca1fa"
      },
      "execution_count": null,
      "outputs": [
        {
          "output_type": "execute_result",
          "data": {
            "text/plain": [
              "'Mon, 07 Nov 2022 00:02:31 +0000'"
            ],
            "application/vnd.google.colaboratory.intrinsic+json": {
              "type": "string"
            }
          },
          "metadata": {},
          "execution_count": 65
        }
      ]
    },
    {
      "cell_type": "code",
      "source": [
        "data[\"rates\"]"
      ],
      "metadata": {
        "colab": {
          "base_uri": "https://localhost:8080/"
        },
        "id": "nh8OmbTF6srN",
        "outputId": "3ffcda2f-cacb-410d-b2e2-78f5858b1a8b"
      },
      "execution_count": null,
      "outputs": [
        {
          "output_type": "execute_result",
          "data": {
            "text/plain": [
              "{'USD': 1,\n",
              " 'AED': 3.6725,\n",
              " 'AFN': 87.231727,\n",
              " 'ALL': 119.178752,\n",
              " 'AMD': 396.493688,\n",
              " 'ANG': 1.79,\n",
              " 'AOA': 487.845159,\n",
              " 'ARS': 156.211075,\n",
              " 'AUD': 1.553869,\n",
              " 'AWG': 1.79,\n",
              " 'AZN': 1.685144,\n",
              " 'BAM': 1.9696,\n",
              " 'BBD': 2,\n",
              " 'BDT': 100.692213,\n",
              " 'BGN': 1.969812,\n",
              " 'BHD': 0.376,\n",
              " 'BIF': 2046.336002,\n",
              " 'BMD': 1,\n",
              " 'BND': 1.402453,\n",
              " 'BOB': 6.83155,\n",
              " 'BRL': 5.061465,\n",
              " 'BSD': 1,\n",
              " 'BTN': 81.846847,\n",
              " 'BWP': 13.379763,\n",
              " 'BYN': 2.586794,\n",
              " 'BZD': 2,\n",
              " 'CAD': 1.351848,\n",
              " 'CDF': 2089.658443,\n",
              " 'CHF': 0.996332,\n",
              " 'CLP': 937.525561,\n",
              " 'CNY': 7.221064,\n",
              " 'COP': 5010.388762,\n",
              " 'CRC': 609.973306,\n",
              " 'CUP': 24,\n",
              " 'CVE': 111.041312,\n",
              " 'CZK': 24.562662,\n",
              " 'DJF': 177.721,\n",
              " 'DKK': 7.512904,\n",
              " 'DOP': 53.378209,\n",
              " 'DZD': 139.015523,\n",
              " 'EGP': 24.05954,\n",
              " 'ERN': 15,\n",
              " 'ETB': 53.103444,\n",
              " 'EUR': 1.007059,\n",
              " 'FJD': 2.272234,\n",
              " 'FKP': 0.88333,\n",
              " 'FOK': 7.512904,\n",
              " 'GBP': 0.883339,\n",
              " 'GEL': 2.74071,\n",
              " 'GGP': 0.88333,\n",
              " 'GHS': 14.442295,\n",
              " 'GIP': 0.88333,\n",
              " 'GMD': 62.66266,\n",
              " 'GNF': 8609.00791,\n",
              " 'GTQ': 7.731445,\n",
              " 'GYD': 208.875533,\n",
              " 'HKD': 7.850069,\n",
              " 'HNL': 24.411866,\n",
              " 'HRK': 7.587546,\n",
              " 'HTG': 130.646072,\n",
              " 'HUF': 405.747085,\n",
              " 'IDR': 15568.169142,\n",
              " 'ILS': 3.558646,\n",
              " 'IMP': 0.88333,\n",
              " 'INR': 81.848622,\n",
              " 'IQD': 1457.315932,\n",
              " 'IRR': 42027.913107,\n",
              " 'ISK': 148.130334,\n",
              " 'JEP': 0.88333,\n",
              " 'JMD': 152.077363,\n",
              " 'JOD': 0.709,\n",
              " 'JPY': 146.873815,\n",
              " 'KES': 120.946596,\n",
              " 'KGS': 83.600884,\n",
              " 'KHR': 4135.626293,\n",
              " 'KID': 1.553833,\n",
              " 'KMF': 495.431408,\n",
              " 'KRW': 1407.495976,\n",
              " 'KWD': 0.29963,\n",
              " 'KYD': 0.833333,\n",
              " 'KZT': 461.60985,\n",
              " 'LAK': 17186.082062,\n",
              " 'LBP': 1507.5,\n",
              " 'LKR': 359.423091,\n",
              " 'LRD': 152.146329,\n",
              " 'LSL': 17.936346,\n",
              " 'LYD': 4.990073,\n",
              " 'MAD': 10.944826,\n",
              " 'MDL': 19.132244,\n",
              " 'MGA': 4262.639076,\n",
              " 'MKD': 62.43638,\n",
              " 'MMK': 2637.269909,\n",
              " 'MNT': 3407.732298,\n",
              " 'MOP': 8.085568,\n",
              " 'MRU': 37.918172,\n",
              " 'MUR': 43.509177,\n",
              " 'MVR': 15.352694,\n",
              " 'MWK': 1032.006705,\n",
              " 'MXN': 19.586039,\n",
              " 'MYR': 4.714379,\n",
              " 'MZN': 64.553467,\n",
              " 'NAD': 17.936346,\n",
              " 'NGN': 435.666578,\n",
              " 'NIO': 35.704918,\n",
              " 'NOK': 10.272377,\n",
              " 'NPR': 130.954956,\n",
              " 'NZD': 1.694625,\n",
              " 'OMR': 0.384497,\n",
              " 'PAB': 1,\n",
              " 'PEN': 3.942784,\n",
              " 'PGK': 3.485863,\n",
              " 'PHP': 58.285777,\n",
              " 'PKR': 219.531679,\n",
              " 'PLN': 4.713829,\n",
              " 'PYG': 7177.857945,\n",
              " 'QAR': 3.64,\n",
              " 'RON': 4.902903,\n",
              " 'RSD': 118.680629,\n",
              " 'RUB': 61.718919,\n",
              " 'RWF': 1077.818264,\n",
              " 'SAR': 3.75,\n",
              " 'SBD': 8.036763,\n",
              " 'SCR': 12.88777,\n",
              " 'SDG': 568.315848,\n",
              " 'SEK': 10.933461,\n",
              " 'SGD': 1.40248,\n",
              " 'SHP': 0.88333,\n",
              " 'SLE': 17.620963,\n",
              " 'SLL': 17620.963452,\n",
              " 'SOS': 567.547662,\n",
              " 'SRD': 29.536509,\n",
              " 'SSP': 609.812835,\n",
              " 'STN': 24.67249,\n",
              " 'SYP': 2485.819314,\n",
              " 'SZL': 17.936346,\n",
              " 'THB': 37.456296,\n",
              " 'TJS': 10.197178,\n",
              " 'TMT': 3.498394,\n",
              " 'TND': 3.150661,\n",
              " 'TOP': 2.390319,\n",
              " 'TRY': 18.554048,\n",
              " 'TTD': 6.714251,\n",
              " 'TVD': 1.553833,\n",
              " 'TWD': 31.819273,\n",
              " 'TZS': 2326.849274,\n",
              " 'UAH': 37.048262,\n",
              " 'UGX': 3791.669526,\n",
              " 'UYU': 40.046071,\n",
              " 'UZS': 11068.980695,\n",
              " 'VES': 8.7752,\n",
              " 'VND': 24626.249478,\n",
              " 'VUV': 121.899596,\n",
              " 'WST': 2.76772,\n",
              " 'XAF': 660.575211,\n",
              " 'XCD': 2.7,\n",
              " 'XDR': 0.784215,\n",
              " 'XOF': 660.575211,\n",
              " 'XPF': 120.172147,\n",
              " 'YER': 247.667553,\n",
              " 'ZAR': 17.936972,\n",
              " 'ZMW': 16.220653,\n",
              " 'ZWL': 635.757688}"
            ]
          },
          "metadata": {},
          "execution_count": 66
        }
      ]
    },
    {
      "cell_type": "code",
      "source": [],
      "metadata": {
        "id": "zEvqKkob6xqM"
      },
      "execution_count": null,
      "outputs": []
    }
  ]
}